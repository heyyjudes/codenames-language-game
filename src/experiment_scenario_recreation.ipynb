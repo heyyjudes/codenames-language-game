{
 "cells": [
  {
   "cell_type": "code",
   "execution_count": 1,
   "metadata": {},
   "outputs": [],
   "source": [
    "import sys\n",
    "import os\n",
    "import data_utils as data_utils\n",
    "import rsa_model as rsa_model\n",
    "\n",
    "# auto reload \n",
    "%load_ext autoreload\n",
    "%autoreload 2"
   ]
  },
  {
   "cell_type": "code",
   "execution_count": 4,
   "metadata": {},
   "outputs": [],
   "source": [
    "codenames_file = 'noun_adjectives.pickle'\n",
    "file_path = '../output/'\n",
    "word_list, adj_list, _, _, _ = data_utils.load_pickle_files(file_path, codenames_file, 'adj_choosen.pickle')"
   ]
  },
  {
   "cell_type": "code",
   "execution_count": 3,
   "metadata": {},
   "outputs": [],
   "source": [
    "def ind_to_word(ind: list[list[int]], word_list: list[str]) -> list[list[str]]:\n",
    "    all_words = []\n",
    "    for i in range(len(ind)):\n",
    "        all_words.append([word_list[j] for j in ind[i]])\n",
    "    return all_words\n",
    "\n",
    "def ind_to_word_dict(adj_dict: dict[dict[tuple, int]], word_list: list[str]) -> dict[dict[str, int]]:\n",
    "    new_dict = {}\n",
    "    for adj in adj_dict:\n",
    "        new_dict[adj] = {}\n",
    "        for pair in adj_dict[adj]:\n",
    "            new_pair = (word_list[pair[0]], word_list[pair[1]])\n",
    "            new_dict[adj][new_pair] = adj_dict[adj][pair]\n",
    "    return new_dict\n"
   ]
  },
  {
   "cell_type": "code",
   "execution_count": 5,
   "metadata": {},
   "outputs": [
    {
     "name": "stdout",
     "output_type": "stream",
     "text": [
      "Experiment 1\n",
      "Scenario 0 Speaker\n",
      "Target Nounds:  ['girl', 'lady']\n",
      "Non-target Nouns:  ['car', 'city', 'performance']\n",
      "Adjectives choices 0: ['empty', 'gorgeous', 'fancy', 'excited', 'stunning', 'difficult', 'deadly', 'healthy']\n",
      "Adjectives mturk stats 0: [0.    0.7   0.05  0.075 0.1   0.    0.    0.075]\n",
      "Scenario 0 Listener\n",
      "Target Nounds:  ['girl', 'lady']\n",
      "Non-target Nouns:  ['car', 'city', 'performance']\n",
      "Adjectives choices 0: ['empty', 'gorgeous', 'fancy', 'excited', 'stunning', 'difficult', 'deadly', 'healthy']\n",
      "Adjectives mturk stats 0: {'empty': {('girl', 'lady'): 8, ('car', 'girl'): 1, ('city', 'girl'): 1, ('girl', 'performance'): 0, ('car', 'lady'): 1, ('city', 'lady'): 1, ('lady', 'performance'): 0, ('car', 'city'): 6, ('car', 'performance'): 2, ('city', 'performance'): 0}, 'gorgeous': {('girl', 'lady'): 0, ('car', 'girl'): 0, ('city', 'girl'): 0, ('girl', 'performance'): 2, ('car', 'lady'): 0, ('city', 'lady'): 0, ('lady', 'performance'): 11, ('car', 'city'): 0, ('car', 'performance'): 0, ('city', 'performance'): 7}, 'fancy': {('girl', 'lady'): 7, ('car', 'girl'): 0, ('city', 'girl'): 1, ('girl', 'performance'): 0, ('car', 'lady'): 1, ('city', 'lady'): 7, ('lady', 'performance'): 4, ('car', 'city'): 0, ('car', 'performance'): 0, ('city', 'performance'): 0}, 'excited': {('girl', 'lady'): 1, ('car', 'girl'): 0, ('city', 'girl'): 1, ('girl', 'performance'): 12, ('car', 'lady'): 0, ('city', 'lady'): 0, ('lady', 'performance'): 2, ('car', 'city'): 1, ('car', 'performance'): 1, ('city', 'performance'): 2}, 'stunning': {('girl', 'lady'): 0, ('car', 'girl'): 0, ('city', 'girl'): 0, ('girl', 'performance'): 0, ('car', 'lady'): 0, ('city', 'lady'): 6, ('lady', 'performance'): 0, ('car', 'city'): 13, ('car', 'performance'): 0, ('city', 'performance'): 1}, 'difficult': {('girl', 'lady'): 7, ('car', 'girl'): 1, ('city', 'girl'): 0, ('girl', 'performance'): 0, ('car', 'lady'): 6, ('city', 'lady'): 1, ('lady', 'performance'): 5, ('car', 'city'): 0, ('car', 'performance'): 0, ('city', 'performance'): 0}, 'deadly': {('girl', 'lady'): 13, ('car', 'girl'): 0, ('city', 'girl'): 0, ('girl', 'performance'): 0, ('car', 'lady'): 5, ('city', 'lady'): 1, ('lady', 'performance'): 0, ('car', 'city'): 1, ('car', 'performance'): 0, ('city', 'performance'): 0}, 'healthy': {('girl', 'lady'): 4, ('car', 'girl'): 0, ('city', 'girl'): 0, ('girl', 'performance'): 0, ('car', 'lady'): 5, ('city', 'lady'): 6, ('lady', 'performance'): 3, ('car', 'city'): 1, ('car', 'performance'): 1, ('city', 'performance'): 0}}\n"
     ]
    }
   ],
   "source": [
    "# experiment 1 \n",
    "print(\"Experiment 1\")\n",
    "listener_data, speaker_data = rsa_model.load_full_set_scen()\n",
    "code_scenarios_listener, adj_scenarios_listener, mturk_listener_scenarios, scenario_dict = listener_data\n",
    "code_scenarios_speaker, adj_scenarios_speaker, mturk_speaker_scenarios = speaker_data\n",
    "\n",
    "ind = 0\n",
    "print(f\"Scenario {ind} Speaker\")\n",
    "print(\"Target Nounds: \", ind_to_word(code_scenarios_speaker[ind], word_list)[0]) \n",
    "print(\"Non-target Nouns: \", ind_to_word(code_scenarios_speaker[ind], word_list)[1])\n",
    "print(f\"Adjectives choices {ind}:\", adj_scenarios_speaker[ind])\n",
    "print(f\"Adjectives mturk stats {ind}:\", mturk_speaker_scenarios[ind])\n",
    "\n",
    "print(f\"Scenario {ind} Listener\")\n",
    "print(\"Target Nounds: \", ind_to_word(code_scenarios_speaker[ind], word_list)[0]) \n",
    "print(\"Non-target Nouns: \", ind_to_word(code_scenarios_speaker[ind], word_list)[1])\n",
    "print(f\"Adjectives choices {ind}:\", adj_scenarios_speaker[ind])\n",
    "print(f\"Adjectives mturk stats {ind}:\", ind_to_word_dict(scenario_dict[ind], word_list))"
   ]
  },
  {
   "cell_type": "code",
   "execution_count": 6,
   "metadata": {},
   "outputs": [
    {
     "name": "stdout",
     "output_type": "stream",
     "text": [
      "Experiment 2\n",
      "Example Scenario Speaker\n",
      "Target Nounds:  ['security', 'god']\n",
      "Non-target Nouns:  ['holiday']\n",
      "Adjectives choices 0: ['faithful', 'confused', 'dry', 'nasty']\n",
      "Adjectives mturk stats 0: [0.89655172 0.         0.03448276 0.06896552]\n",
      "Example Scenario Listener (For experiment 2, scenarios are not symmetric)\n",
      "Target Nounds:  ['lady', 'birthday']\n",
      "Non-target Nouns:  ['history']\n",
      "Adjectives choices 0: ['adorable', 'hilarious', 'clear', 'busy']\n",
      "Adjectives mturk stats 0: {'lady,birthday': 0.9452054794520548, 'lady,history': 0.0547945205479452}\n"
     ]
    }
   ],
   "source": [
    "# experiment 2\n",
    "listener_data, speaker_data = rsa_model.load_semantic_scen_ex2(counts=False)\n",
    "code_scenarios_listener, adj_scenarios_listener, listener_mturk_scenarios, listener_scenario_dict, _ = listener_data\n",
    "code_scenarios_speaker, adj_scenarios_speaker, mturk_speaker_scenarios, _ = speaker_data\n",
    " \n",
    "ind=0\n",
    "print(\"Experiment 2\")\n",
    "print(f\"Example Scenario Speaker\")\n",
    "print(\"Target Nounds: \", ind_to_word(code_scenarios_speaker[ind], word_list)[0]) \n",
    "print(\"Non-target Nouns: \", ind_to_word(code_scenarios_speaker[ind], word_list)[1])\n",
    "print(f\"Adjectives choices {ind}:\", adj_scenarios_speaker[ind])\n",
    "print(f\"Adjectives mturk stats {ind}:\", mturk_speaker_scenarios[ind])\n",
    "\n",
    "\n",
    "print(f\"Example Scenario Listener (For experiment 2, scenarios are not symmetric)\")\n",
    "print(\"Target Nounds: \", ind_to_word(code_scenarios_listener[ind], word_list)[0]) \n",
    "print(\"Non-target Nouns: \", ind_to_word(code_scenarios_listener[ind], word_list)[1])\n",
    "# I am not sure which adjective are chosen for each sample\n",
    "print(f\"Adjectives choices {ind}:\", adj_scenarios_listener[ind])\n",
    "print(f\"Adjectives mturk stats {ind}:\", listener_scenario_dict[ind])"
   ]
  },
  {
   "cell_type": "code",
   "execution_count": 7,
   "metadata": {},
   "outputs": [
    {
     "name": "stdout",
     "output_type": "stream",
     "text": [
      "Experiment 3 (paired experiments)\n",
      "Scenario 0 Speaker\n",
      "Target Nounds:  ['artist', 'beer']\n",
      "Non-target Nouns:  ['country']\n",
      "Adjectives choices 0: ['tired', 'gorgeous', 'healthy']\n",
      "Adjectives mturk stats 0: [0.29032258 0.41935484 0.29032258]\n",
      "Scenario 0 Listener\n",
      "Target Nouns:  ['artist', 'beer']\n",
      "Non-target Nouns:  ['country']\n",
      "Adjectives choices 0: ['tired', 'gorgeous', 'healthy']\n",
      "Adjectives mturk stats 0: [[0.33333333 0.56666667 0.1       ]]\n",
      "Adjectives mturk stats 0: {'artist,beer': 0.3333333333333333, 'artist,country': 0.5666666666666667, 'beer,country': 0.1}\n"
     ]
    }
   ],
   "source": [
    "# experiment 3\n",
    "listener_data, speaker_data = rsa_model.load_semantic_scen(counts=False)\n",
    "\n",
    "code_scenarios_listener, adj_scenarios_listener, mturk_listener_scenarios, listener_scenario_dict, _ = listener_data\n",
    "code_scenarios_speaker, adj_scenarios_speaker, mturk_speaker_scenarios, _ = speaker_data\n",
    "\n",
    "print(\"Experiment 3 (paired experiments)\")\n",
    "print(f\"Scenario {ind} Speaker\")\n",
    "print(\"Target Nounds: \", ind_to_word(code_scenarios_speaker[ind], word_list)[0]) \n",
    "print(\"Non-target Nouns: \", ind_to_word(code_scenarios_speaker[ind], word_list)[1])\n",
    "print(f\"Adjectives choices {ind}:\", adj_scenarios_speaker[ind])\n",
    "print(f\"Adjectives mturk stats {ind}:\", mturk_speaker_scenarios[ind])\n",
    "\n",
    "print(f\"Scenario {ind} Listener\")\n",
    "print(\"Target Nouns: \", ind_to_word(code_scenarios_listener[ind], word_list)[0]) \n",
    "print(\"Non-target Nouns: \", ind_to_word(code_scenarios_listener[ind], word_list)[1])\n",
    "print(f\"Adjectives choices {ind}:\", adj_scenarios_speaker[ind])\n",
    "\n",
    "# TO DO Fix\n",
    "print(f\"Adjectives mturk stats {ind}:\", mturk_listener_scenarios[ind])\n",
    "print(f\"Adjectives mturk stats {ind}:\", listener_scenario_dict[ind])"
   ]
  }
 ],
 "metadata": {
  "kernelspec": {
   "display_name": "base",
   "language": "python",
   "name": "python3"
  },
  "language_info": {
   "codemirror_mode": {
    "name": "ipython",
    "version": 3
   },
   "file_extension": ".py",
   "mimetype": "text/x-python",
   "name": "python",
   "nbconvert_exporter": "python",
   "pygments_lexer": "ipython3",
   "version": "3.10.13"
  }
 },
 "nbformat": 4,
 "nbformat_minor": 2
}
